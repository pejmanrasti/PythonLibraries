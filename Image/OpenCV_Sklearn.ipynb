{
  "nbformat": 4,
  "nbformat_minor": 0,
  "metadata": {
    "colab": {
      "provenance": [],
      "gpuType": "T4",
      "authorship_tag": "ABX9TyNYvWVBpdoUQ+Y7/BHmbSS/",
      "include_colab_link": true
    },
    "kernelspec": {
      "name": "python3",
      "display_name": "Python 3"
    },
    "language_info": {
      "name": "python"
    },
    "accelerator": "GPU"
  },
  "cells": [
    {
      "cell_type": "markdown",
      "metadata": {
        "id": "view-in-github",
        "colab_type": "text"
      },
      "source": [
        "<a href=\"https://colab.research.google.com/github/pejmanrasti/PythonLibraries/blob/main/Image/OpenCV_Sklearn.ipynb\" target=\"_parent\"><img src=\"https://colab.research.google.com/assets/colab-badge.svg\" alt=\"Open In Colab\"/></a>"
      ]
    },
    {
      "cell_type": "code",
      "execution_count": null,
      "metadata": {
        "id": "hjihh8IgpQo0"
      },
      "outputs": [],
      "source": [
        "import cv2\n",
        "import numpy as np\n",
        "from sklearn.model_selection import train_test_split\n",
        "from sklearn.ensemble import RandomForestClassifier\n",
        "from sklearn.metrics import accuracy_score\n",
        "from keras.datasets import cifar10\n",
        "\n",
        "# Load CIFAR-10 dataset\n",
        "(x_train, y_train), (x_test, y_test) = cifar10.load_data()\n",
        "\n",
        "# Preprocess images with OpenCV\n",
        "def preprocess_images(images):\n",
        "    processed_images = []\n",
        "    for img in images:\n",
        "        # Convert the image from BGR to Grayscale\n",
        "        gray = cv2.cvtColor(img, cv2.COLOR_BGR2GRAY)\n",
        "        # Resize the image to reduce complexity\n",
        "        resized = cv2.resize(gray, (32, 32), interpolation=cv2.INTER_AREA)\n",
        "        processed_images.append(resized.flatten())\n",
        "    return np.array(processed_images)\n",
        "\n",
        "# Preprocess training and test images\n",
        "x_train_processed = preprocess_images(x_train)\n",
        "x_test_processed = preprocess_images(x_test)\n",
        "\n",
        "# Split the training set for validation\n",
        "x_train_split, x_val_split, y_train_split, y_val_split = train_test_split(\n",
        "    x_train_processed, y_train, test_size=0.2, random_state=42)\n",
        "\n",
        "# Use RandomForestClassifier for classification\n",
        "clf = RandomForestClassifier(n_estimators=100)\n",
        "clf.fit(x_train_split, y_train_split.ravel())\n",
        "\n",
        "# Predict on validation set\n",
        "y_pred = clf.predict(x_val_split)\n",
        "print(f\"Validation Accuracy: {accuracy_score(y_val_split, y_pred)}\")\n",
        "\n",
        "# Predict on test set\n",
        "y_test_pred = clf.predict(x_test_processed)\n",
        "print(f\"Test Accuracy: {accuracy_score(y_test, y_test_pred)}\")\n"
      ]
    }
  ]
}