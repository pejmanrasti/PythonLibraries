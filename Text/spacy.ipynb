{
  "nbformat": 4,
  "nbformat_minor": 0,
  "metadata": {
    "colab": {
      "provenance": [],
      "authorship_tag": "ABX9TyNS7e6g82r4Lg+VjZa8FAdG",
      "include_colab_link": true
    },
    "kernelspec": {
      "name": "python3",
      "display_name": "Python 3"
    },
    "language_info": {
      "name": "python"
    }
  },
  "cells": [
    {
      "cell_type": "markdown",
      "metadata": {
        "id": "view-in-github",
        "colab_type": "text"
      },
      "source": [
        "<a href=\"https://colab.research.google.com/github/pejmanrasti/PythonLibraries/blob/main/Text/spacy.ipynb\" target=\"_parent\"><img src=\"https://colab.research.google.com/assets/colab-badge.svg\" alt=\"Open In Colab\"/></a>"
      ]
    },
    {
      "cell_type": "code",
      "execution_count": 7,
      "metadata": {
        "colab": {
          "base_uri": "https://localhost:8080/"
        },
        "id": "Hz8NDphw1Wgm",
        "outputId": "6db1ad38-6baa-419f-cfa9-684fc109b827"
      },
      "outputs": [
        {
          "output_type": "stream",
          "name": "stdout",
          "text": [
            "Tokenization and POS Tagging:\n",
            "Apple PROPN\n",
            "is AUX\n",
            "looking VERB\n",
            "at ADP\n",
            "buying VERB\n",
            "U.K. PROPN\n",
            "startup NOUN\n",
            "for ADP\n",
            "$ SYM\n",
            "1 NUM\n",
            "billion NUM\n",
            "\n",
            "Named Entities:\n",
            "Apple ORG\n",
            "U.K. GPE\n",
            "$1 billion MONEY\n",
            "\n",
            "Dependency Parsing:\n",
            "Apple nsubj looking\n",
            "is aux looking\n",
            "looking ROOT looking\n",
            "at prep looking\n",
            "buying pcomp at\n",
            "U.K. dobj buying\n",
            "startup dep looking\n",
            "for prep startup\n",
            "$ quantmod billion\n",
            "1 compound billion\n",
            "billion pobj for\n",
            "\n",
            "Lemmatization:\n",
            "Apple Apple\n",
            "is be\n",
            "looking look\n",
            "at at\n",
            "buying buy\n",
            "U.K. U.K.\n",
            "startup startup\n",
            "for for\n",
            "$ $\n",
            "1 1\n",
            "billion billion\n"
          ]
        }
      ],
      "source": [
        "import spacy\n",
        "\n",
        "# Load the spaCy model\n",
        "nlp = spacy.load('en_core_web_sm')\n",
        "\n",
        "# Sample text\n",
        "text = \"Apple is looking at buying U.K. startup for $1 billion\"\n",
        "\n",
        "# Process the text\n",
        "doc = nlp(text)\n",
        "\n",
        "# Tokenization and part-of-speech tagging\n",
        "print(\"Tokenization and POS Tagging:\")\n",
        "for token in doc:\n",
        "    print(token.text, token.pos_)\n",
        "\n",
        "# Named Entity Recognition\n",
        "print(\"\\nNamed Entities:\")\n",
        "for ent in doc.ents:\n",
        "    print(ent.text, ent.label_)\n",
        "\n",
        "# Dependency Parsing\n",
        "print(\"\\nDependency Parsing:\")\n",
        "for token in doc:\n",
        "    print(token.text, token.dep_, token.head.text)\n",
        "\n",
        "# Lemmatization\n",
        "print(\"\\nLemmatization:\")\n",
        "for token in doc:\n",
        "    print(token.text, token.lemma_)\n"
      ]
    }
  ]
}