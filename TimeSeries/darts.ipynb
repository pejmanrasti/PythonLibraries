{
  "nbformat": 4,
  "nbformat_minor": 0,
  "metadata": {
    "colab": {
      "provenance": [],
      "gpuType": "T4",
      "authorship_tag": "ABX9TyPMUgDks/CYLWzWOeIT6lzJ",
      "include_colab_link": true
    },
    "kernelspec": {
      "name": "python3",
      "display_name": "Python 3"
    },
    "language_info": {
      "name": "python"
    },
    "accelerator": "GPU"
  },
  "cells": [
    {
      "cell_type": "markdown",
      "metadata": {
        "id": "view-in-github",
        "colab_type": "text"
      },
      "source": [
        "<a href=\"https://colab.research.google.com/github/pejmanrasti/PythonLibraries/blob/main/TimeSeries/darts.ipynb\" target=\"_parent\"><img src=\"https://colab.research.google.com/assets/colab-badge.svg\" alt=\"Open In Colab\"/></a>"
      ]
    },
    {
      "cell_type": "code",
      "execution_count": null,
      "metadata": {
        "id": "hjihh8IgpQo0"
      },
      "outputs": [],
      "source": [
        "!pip install darts\n",
        "from darts import TimeSeries\n",
        "from darts.models import ExponentialSmoothing\n",
        "from darts.datasets import AirPassengersDataset\n",
        "import matplotlib.pyplot as plt\n",
        "\n",
        "# Load the dataset\n",
        "series = AirPassengersDataset().load()\n",
        "\n",
        "# Split the series into training and validation sets\n",
        "train, val = series.split_before(0.75)\n",
        "\n",
        "# Initialize and fit the model\n",
        "model = ExponentialSmoothing(seasonal_periods=12)\n",
        "model.fit(train)\n",
        "\n",
        "# Perform forecasting\n",
        "forecast = model.predict(len(val))\n",
        "\n",
        "# Plotting the results\n",
        "train.plot(label='Training data')\n",
        "val.plot(label='Validation data')\n",
        "forecast.plot(label='Forecast')\n",
        "plt.legend()\n",
        "plt.title('Airline Passengers Forecast')\n",
        "plt.show()\n"
      ]
    }
  ]
}