{
  "nbformat": 4,
  "nbformat_minor": 0,
  "metadata": {
    "colab": {
      "provenance": [],
      "gpuType": "T4",
      "authorship_tag": "ABX9TyNWMSq91yrbwL9xymH4Dmto",
      "include_colab_link": true
    },
    "kernelspec": {
      "name": "python3",
      "display_name": "Python 3"
    },
    "language_info": {
      "name": "python"
    },
    "accelerator": "GPU"
  },
  "cells": [
    {
      "cell_type": "markdown",
      "metadata": {
        "id": "view-in-github",
        "colab_type": "text"
      },
      "source": [
        "<a href=\"https://colab.research.google.com/github/pejmanrasti/PythonLibraries/blob/main/TimeSeries/statsmodel.ipynb\" target=\"_parent\"><img src=\"https://colab.research.google.com/assets/colab-badge.svg\" alt=\"Open In Colab\"/></a>"
      ]
    },
    {
      "cell_type": "code",
      "execution_count": null,
      "metadata": {
        "id": "hjihh8IgpQo0"
      },
      "outputs": [],
      "source": [
        "import pandas as pd\n",
        "import statsmodels.api as sm\n",
        "import matplotlib.pyplot as plt\n",
        "from statsmodels.tsa.api import ExponentialSmoothing\n",
        "\n",
        "# For this example, let's create a DataFrame simulating the Airline Passengers dataset\n",
        "# In practice, you would load your dataset using pd.read_csv() or another pandas function\n",
        "data = sm.datasets.get_rdataset(\"AirPassengers\").data\n",
        "data['date'] = pd.to_datetime(data['time'], format='%Y-%m').dt.to_period('M')\n",
        "series = data.set_index('date')['value']\n",
        "\n",
        "# Split the data into training and validation sets\n",
        "split_point = int(len(series) * 0.75)\n",
        "train = series[:split_point]\n",
        "val = series[split_point:]\n",
        "\n",
        "# Fit the model\n",
        "model = ExponentialSmoothing(train, seasonal_periods=12, trend='add', seasonal='mul').fit()\n",
        "\n",
        "# Forecast the next steps\n",
        "forecast = model.forecast(steps=len(val))\n",
        "\n",
        "# Plotting the results\n",
        "train.plot(label='Training data')\n",
        "val.plot(label='Validation data', color='orange')\n",
        "forecast.plot(label='Forecast', color='green', style='--')\n",
        "plt.legend()\n",
        "plt.title('Airline Passengers Forecast with Statsmodels')\n",
        "plt.show()\n"
      ]
    }
  ]
}