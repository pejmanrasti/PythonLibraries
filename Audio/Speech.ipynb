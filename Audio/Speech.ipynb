{
  "nbformat": 4,
  "nbformat_minor": 0,
  "metadata": {
    "colab": {
      "provenance": [],
      "authorship_tag": "ABX9TyNZfpOLaPJ68BtpYHkzDai/",
      "include_colab_link": true
    },
    "kernelspec": {
      "name": "python3",
      "display_name": "Python 3"
    },
    "language_info": {
      "name": "python"
    }
  },
  "cells": [
    {
      "cell_type": "markdown",
      "metadata": {
        "id": "view-in-github",
        "colab_type": "text"
      },
      "source": [
        "<a href=\"https://colab.research.google.com/github/pejmanrasti/PythonLibraries/blob/main/Audio/Speech.ipynb\" target=\"_parent\"><img src=\"https://colab.research.google.com/assets/colab-badge.svg\" alt=\"Open In Colab\"/></a>"
      ]
    },
    {
      "cell_type": "code",
      "execution_count": null,
      "metadata": {
        "id": "Hz8NDphw1Wgm"
      },
      "outputs": [],
      "source": [
        "!pip install SpeechRecognition\n",
        "\n",
        "import speech_recognition as sr\n",
        "\n",
        "# Initialize the recognizer\n",
        "recognizer = sr.Recognizer()\n",
        "\n",
        "# Load your audio file\n",
        "audio_file_path = 'path_to_your_audio_file.wav'\n",
        "\n",
        "# Use the audio file as the audio source\n",
        "with sr.AudioFile(audio_file_path) as source:\n",
        "    # Record the audio file through the recognizer\n",
        "    audio_data = recognizer.record(source)\n",
        "\n",
        "    # Try to recognize the speech in the audio\n",
        "    try:\n",
        "        text = recognizer.recognize_google(audio_data)\n",
        "        print(\"Google Speech Recognition thinks you said: \" + text)\n",
        "    except sr.UnknownValueError:\n",
        "        print(\"Google Speech Recognition could not understand audio\")\n",
        "    except sr.RequestError as e:\n",
        "        print(\"Could not request results from Google Speech Recognition service; {0}\".format(e))\n"
      ]
    }
  ]
}