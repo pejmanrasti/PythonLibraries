{
  "nbformat": 4,
  "nbformat_minor": 0,
  "metadata": {
    "colab": {
      "provenance": [],
      "authorship_tag": "ABX9TyP3rIVMRfYQ6jYBNLF7hu3w",
      "include_colab_link": true
    },
    "kernelspec": {
      "name": "python3",
      "display_name": "Python 3"
    },
    "language_info": {
      "name": "python"
    }
  },
  "cells": [
    {
      "cell_type": "markdown",
      "metadata": {
        "id": "view-in-github",
        "colab_type": "text"
      },
      "source": [
        "<a href=\"https://colab.research.google.com/github/pejmanrasti/PythonLibraries/blob/main/text/gensim.ipynb\" target=\"_parent\"><img src=\"https://colab.research.google.com/assets/colab-badge.svg\" alt=\"Open In Colab\"/></a>"
      ]
    },
    {
      "cell_type": "code",
      "execution_count": null,
      "metadata": {
        "id": "Hz8NDphw1Wgm"
      },
      "outputs": [],
      "source": [
        "from gensim import corpora\n",
        "from gensim.models import LdaModel\n",
        "from gensim.parsing.preprocessing import STOPWORDS\n",
        "\n",
        "# Sample documents\n",
        "docs = [\n",
        "    \"The fox jumps over the dog\",\n",
        "    \"The quick brown fox\",\n",
        "    \"Effective machine learning tools\",\n",
        "    \"Machine learning with Python\"\n",
        "]\n",
        "\n",
        "# Tokenize the documents.\n",
        "tokenized_docs = [[word for word in document.lower().split() if word not in STOPWORDS]\n",
        "                  for document in docs]\n",
        "\n",
        "# Create a dictionary representation of the documents.\n",
        "dictionary = corpora.Dictionary(tokenized_docs)\n",
        "\n",
        "# Convert dictionary to a bag of words corpus\n",
        "corpus = [dictionary.doc2bow(text) for text in tokenized_docs]\n",
        "\n",
        "# Make a Latent Dirichlet Allocation (LDA) model\n",
        "lda_model = LdaModel(corpus, num_topics=2, id2word=dictionary, passes=15)\n",
        "\n",
        "# Print topics found by the LDA model\n",
        "for idx, topic in lda_model.print_topics(-1):\n",
        "    print('Topic: {} \\nWords: {}'.format(idx, topic))\n"
      ]
    }
  ]
}